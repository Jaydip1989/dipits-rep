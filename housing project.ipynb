{
 "cells": [
  {
   "cell_type": "markdown",
   "metadata": {},
   "source": [
    "##                                             California Housing Price Prediction"
   ]
  },
  {
   "cell_type": "markdown",
   "metadata": {},
   "source": [
    "### Problem Statement"
   ]
  },
  {
   "cell_type": "markdown",
   "metadata": {},
   "source": [
    "### The purpose of the project is to predict median house values in Californian districts, given many features from these districts. The project also aims at building a model of housing prices in California using the California census data. The data has metrics such as the population, median income, median housing price, and so on for each block group in California. This model should learn from the data and be able to predict the median housing price in any district, given all the other metrics. Districts or block groups are the smallest geographical units for which the US Census Bureau publishes sample data (a block group typically has a population of 600 to 3,000 people). There are 20,640 districts in the project dataset."
   ]
  },
  {
   "cell_type": "markdown",
   "metadata": {},
   "source": [
    "### The Solution of this problem is carried out using python and its various features.\n",
    "### The workflow of the project is:\n",
    "### 1.] Importing the python packages (numpy- mathematical operations, matplotlib.pyplot for graph plotting and                 pandas for extracting the dataset)\n",
    "### 2.] Extracting the Dataset of housing.csv\n",
    "### 3.] Setting the independent and dependent variables from the dataset.\n",
    "### 4.] Performing the imputation of the missing values using the Scikit Learn (sklearn) Library\n",
    "### 5.] Performing Label and One Hot Encoding on the data\n",
    "### 6.] Splitting the Data in Training Dataset and the Testing Dataset\n",
    "### 7.] Performing the Scaling Operation on both the train and the test data\n",
    "### 8.] Carrying out Linear Regression by fitting linear regressor on the training data\n",
    "### 9.] Performing the prediction on the test data and finding out the root mean square error (rmse)\n",
    "### 10.] Carrying out Decision Tree Regression on the train data using Decision Tree Regressor\n",
    "### 11.] Performing the prediction on the test data and finding out the root mean square error(rmse)\n",
    "### 12.] Carrying out Random Forest Regression on the train data using Random Forest Regressor\n",
    "### 13.] Performing the prediction on the test data and finding out the root mean square error(rmse)\n",
    "### 14.] Finally, Plotting the graph to verify the predictions of the model using linear regression\n",
    "\n"
   ]
  },
  {
   "cell_type": "code",
   "execution_count": 1,
   "metadata": {},
   "outputs": [],
   "source": [
    "%config IPCompleter.greedy = True"
   ]
  },
  {
   "cell_type": "markdown",
   "metadata": {},
   "source": [
    "### Importing Packages"
   ]
  },
  {
   "cell_type": "code",
   "execution_count": 2,
   "metadata": {},
   "outputs": [],
   "source": [
    "#==================================================================================\n",
    "import numpy as np\n",
    "import pandas as pd\n",
    "import matplotlib.pyplot as plt\n",
    "#=================================================================================="
   ]
  },
  {
   "cell_type": "markdown",
   "metadata": {},
   "source": [
    "### Importing Dataset"
   ]
  },
  {
   "cell_type": "code",
   "execution_count": 3,
   "metadata": {},
   "outputs": [],
   "source": [
    "#===================================================================================\n",
    "housing_data = pd.read_csv(\"housing.csv\")\n",
    "#==================================================================================="
   ]
  },
  {
   "cell_type": "code",
   "execution_count": 4,
   "metadata": {},
   "outputs": [
    {
     "name": "stdout",
     "output_type": "stream",
     "text": [
      "<class 'pandas.core.frame.DataFrame'>\n",
      "RangeIndex: 20640 entries, 0 to 20639\n",
      "Data columns (total 10 columns):\n",
      "longitude             20640 non-null float64\n",
      "latitude              20640 non-null float64\n",
      "housing_median_age    20640 non-null int64\n",
      "total_rooms           20640 non-null int64\n",
      "total_bedrooms        20433 non-null float64\n",
      "population            20640 non-null int64\n",
      "households            20640 non-null int64\n",
      "median_income         20640 non-null float64\n",
      "ocean_proximity       20640 non-null object\n",
      "median_house_value    20640 non-null int64\n",
      "dtypes: float64(4), int64(5), object(1)\n",
      "memory usage: 1.6+ MB\n"
     ]
    }
   ],
   "source": [
    "housing_data.info()"
   ]
  },
  {
   "cell_type": "markdown",
   "metadata": {},
   "source": [
    "### To Extract independent variable (X) and dependent variable(y)"
   ]
  },
  {
   "cell_type": "code",
   "execution_count": 5,
   "metadata": {},
   "outputs": [],
   "source": [
    "#===============================================================================================================================\n",
    "X = housing_data[['longitude','latitude','housing_median_age','total_rooms','total_bedrooms','population','households','median_income','ocean_proximity']]\n",
    "y = housing_data[['median_house_value']]\n",
    "#==============================================================================================================================="
   ]
  },
  {
   "cell_type": "code",
   "execution_count": 6,
   "metadata": {},
   "outputs": [
    {
     "name": "stdout",
     "output_type": "stream",
     "text": [
      "********************************************************************\n",
      "   longitude  latitude  housing_median_age  total_rooms  total_bedrooms  \\\n",
      "0    -122.23     37.88                  41          880           129.0   \n",
      "1    -122.22     37.86                  21         7099          1106.0   \n",
      "2    -122.24     37.85                  52         1467           190.0   \n",
      "3    -122.25     37.85                  52         1274           235.0   \n",
      "4    -122.25     37.85                  52         1627           280.0   \n",
      "\n",
      "   population  households  median_income ocean_proximity  \n",
      "0         322         126         8.3252        NEAR BAY  \n",
      "1        2401        1138         8.3014        NEAR BAY  \n",
      "2         496         177         7.2574        NEAR BAY  \n",
      "3         558         219         5.6431        NEAR BAY  \n",
      "4         565         259         3.8462        NEAR BAY  \n",
      "==========================================================\n",
      "   median_house_value\n",
      "0              452600\n",
      "1              358500\n",
      "2              352100\n",
      "3              341300\n",
      "4              342200\n",
      "********************************************************************\n"
     ]
    }
   ],
   "source": [
    "print(\"********************************************************************\")\n",
    "print((X).head(5))\n",
    "print(\"==========================================================\")\n",
    "print((y).head(5))\n",
    "print(\"********************************************************************\")"
   ]
  },
  {
   "cell_type": "markdown",
   "metadata": {},
   "source": [
    "### To find the number of variables to be imputed"
   ]
  },
  {
   "cell_type": "code",
   "execution_count": 7,
   "metadata": {},
   "outputs": [
    {
     "name": "stdout",
     "output_type": "stream",
     "text": [
      "********************************************************************\n",
      "longitude               0\n",
      "latitude                0\n",
      "housing_median_age      0\n",
      "total_rooms             0\n",
      "total_bedrooms        207\n",
      "population              0\n",
      "households              0\n",
      "median_income           0\n",
      "ocean_proximity         0\n",
      "median_house_value      0\n",
      "dtype: int64\n",
      "********************************************************************\n"
     ]
    }
   ],
   "source": [
    "print(\"********************************************************************\")\n",
    "print(housing_data.isnull().sum())\n",
    "print(\"********************************************************************\")"
   ]
  },
  {
   "cell_type": "markdown",
   "metadata": {},
   "source": [
    "### Impute missing values in total_bedrooms using an Imputer"
   ]
  },
  {
   "cell_type": "code",
   "execution_count": 8,
   "metadata": {
    "scrolled": true
   },
   "outputs": [
    {
     "name": "stderr",
     "output_type": "stream",
     "text": [
      "C:\\Users\\Girish\\Anaconda3\\lib\\site-packages\\ipykernel_launcher.py:4: SettingWithCopyWarning: \n",
      "A value is trying to be set on a copy of a slice from a DataFrame.\n",
      "Try using .loc[row_indexer,col_indexer] = value instead\n",
      "\n",
      "See the caveats in the documentation: http://pandas.pydata.org/pandas-docs/stable/indexing.html#indexing-view-versus-copy\n",
      "  after removing the cwd from sys.path.\n",
      "C:\\Users\\Girish\\Anaconda3\\lib\\site-packages\\pandas\\core\\indexing.py:537: SettingWithCopyWarning: \n",
      "A value is trying to be set on a copy of a slice from a DataFrame.\n",
      "Try using .loc[row_indexer,col_indexer] = value instead\n",
      "\n",
      "See the caveats in the documentation: http://pandas.pydata.org/pandas-docs/stable/indexing.html#indexing-view-versus-copy\n",
      "  self.obj[item] = s\n"
     ]
    }
   ],
   "source": [
    "#======================================================================================================\n",
    "from sklearn.preprocessing import Imputer\n",
    "imp_housing = Imputer(missing_values=\"NaN\",strategy=\"mean\",axis=0)\n",
    "X[['total_bedrooms']] = imp_housing.fit_transform(X[['total_bedrooms']])\n",
    "#======================================================================================================"
   ]
  },
  {
   "cell_type": "markdown",
   "metadata": {},
   "source": [
    "### Encoding the Data with Label Encoder and One Hot Encoder"
   ]
  },
  {
   "cell_type": "code",
   "execution_count": 9,
   "metadata": {},
   "outputs": [
    {
     "name": "stderr",
     "output_type": "stream",
     "text": [
      "C:\\Users\\Girish\\Anaconda3\\lib\\site-packages\\sklearn\\preprocessing\\label.py:111: DataConversionWarning: A column-vector y was passed when a 1d array was expected. Please change the shape of y to (n_samples, ), for example using ravel().\n",
      "  y = column_or_1d(y, warn=True)\n",
      "C:\\Users\\Girish\\Anaconda3\\lib\\site-packages\\ipykernel_launcher.py:4: SettingWithCopyWarning: \n",
      "A value is trying to be set on a copy of a slice from a DataFrame.\n",
      "Try using .loc[row_indexer,col_indexer] = value instead\n",
      "\n",
      "See the caveats in the documentation: http://pandas.pydata.org/pandas-docs/stable/indexing.html#indexing-view-versus-copy\n",
      "  after removing the cwd from sys.path.\n",
      "C:\\Users\\Girish\\Anaconda3\\lib\\site-packages\\pandas\\core\\indexing.py:537: SettingWithCopyWarning: \n",
      "A value is trying to be set on a copy of a slice from a DataFrame.\n",
      "Try using .loc[row_indexer,col_indexer] = value instead\n",
      "\n",
      "See the caveats in the documentation: http://pandas.pydata.org/pandas-docs/stable/indexing.html#indexing-view-versus-copy\n",
      "  self.obj[item] = s\n"
     ]
    }
   ],
   "source": [
    "#===========================================================================================================\n",
    "from sklearn.preprocessing import LabelEncoder,OneHotEncoder\n",
    "lbl_encoder = LabelEncoder()\n",
    "X[['ocean_proximity']] = lbl_encoder.fit_transform(X[['ocean_proximity']])\n",
    "onehotencoder_X = OneHotEncoder(categorical_features=[8])\n",
    "X = onehotencoder_X.fit_transform(X).toarray()\n",
    "#==========================================================================================================="
   ]
  },
  {
   "cell_type": "code",
   "execution_count": 10,
   "metadata": {
    "scrolled": true
   },
   "outputs": [
    {
     "data": {
      "text/html": [
       "<div>\n",
       "<style scoped>\n",
       "    .dataframe tbody tr th:only-of-type {\n",
       "        vertical-align: middle;\n",
       "    }\n",
       "\n",
       "    .dataframe tbody tr th {\n",
       "        vertical-align: top;\n",
       "    }\n",
       "\n",
       "    .dataframe thead th {\n",
       "        text-align: right;\n",
       "    }\n",
       "</style>\n",
       "<table border=\"1\" class=\"dataframe\">\n",
       "  <thead>\n",
       "    <tr style=\"text-align: right;\">\n",
       "      <th></th>\n",
       "      <th>median_house_value</th>\n",
       "    </tr>\n",
       "  </thead>\n",
       "  <tbody>\n",
       "    <tr>\n",
       "      <th>0</th>\n",
       "      <td>452600</td>\n",
       "    </tr>\n",
       "    <tr>\n",
       "      <th>1</th>\n",
       "      <td>358500</td>\n",
       "    </tr>\n",
       "    <tr>\n",
       "      <th>2</th>\n",
       "      <td>352100</td>\n",
       "    </tr>\n",
       "    <tr>\n",
       "      <th>3</th>\n",
       "      <td>341300</td>\n",
       "    </tr>\n",
       "    <tr>\n",
       "      <th>4</th>\n",
       "      <td>342200</td>\n",
       "    </tr>\n",
       "  </tbody>\n",
       "</table>\n",
       "</div>"
      ],
      "text/plain": [
       "   median_house_value\n",
       "0              452600\n",
       "1              358500\n",
       "2              352100\n",
       "3              341300\n",
       "4              342200"
      ]
     },
     "execution_count": 10,
     "metadata": {},
     "output_type": "execute_result"
    }
   ],
   "source": [
    "\n",
    "(pd.DataFrame(y).head(5))\n"
   ]
  },
  {
   "cell_type": "markdown",
   "metadata": {},
   "source": [
    "### Splitting The Dataset into Train Data and Test Data "
   ]
  },
  {
   "cell_type": "code",
   "execution_count": 11,
   "metadata": {},
   "outputs": [],
   "source": [
    "#===============================================================================================================================\n",
    "\n",
    "from sklearn.model_selection import train_test_split\n",
    "X_train,X_test,y_train,y_test = train_test_split(X,y,test_size = 0.2,random_state = 0)\n",
    "\n",
    "#==============================================================================================================================="
   ]
  },
  {
   "cell_type": "code",
   "execution_count": 12,
   "metadata": {},
   "outputs": [
    {
     "name": "stdout",
     "output_type": "stream",
     "text": [
      "********************************************************************\n",
      "    0    1    2    3    4       5      6     7       8      9       10     11  \\\n",
      "0  0.0  1.0  0.0  0.0  0.0 -117.55  33.83   6.0   502.0   76.0   228.0   65.0   \n",
      "1  0.0  0.0  0.0  1.0  0.0 -122.44  37.73  52.0  2381.0  492.0  1485.0  447.0   \n",
      "2  1.0  0.0  0.0  0.0  0.0 -118.00  33.83  26.0  1718.0  385.0  1022.0  368.0   \n",
      "3  1.0  0.0  0.0  0.0  0.0 -118.26  34.01  38.0   697.0  208.0   749.0  206.0   \n",
      "4  1.0  0.0  0.0  0.0  0.0 -118.36  34.08  52.0  2373.0  601.0  1135.0  576.0   \n",
      "\n",
      "       12  \n",
      "0  4.2386  \n",
      "1  4.3898  \n",
      "2  3.9333  \n",
      "3  1.4653  \n",
      "4  3.1765  \n",
      "==========================================================\n",
      "    0    1    2    3    4       5      6     7       8      9       10     11  \\\n",
      "0  0.0  0.0  0.0  0.0  1.0 -117.05  32.58  22.0  2101.0  399.0  1551.0  371.0   \n",
      "1  1.0  0.0  0.0  0.0  0.0 -117.97  33.92  32.0  2620.0  398.0  1296.0  429.0   \n",
      "2  0.0  1.0  0.0  0.0  0.0 -121.84  38.65  29.0  3167.0  548.0  1554.0  534.0   \n",
      "3  0.0  1.0  0.0  0.0  0.0 -115.60  33.20  37.0   709.0  187.0   390.0  142.0   \n",
      "4  0.0  0.0  0.0  1.0  0.0 -122.43  37.79  25.0  1637.0  394.0   649.0  379.0   \n",
      "\n",
      "       12  \n",
      "0  4.1518  \n",
      "1  5.7796  \n",
      "2  4.3487  \n",
      "3  2.4511  \n",
      "4  5.0049  \n",
      "==========================================================\n",
      "       median_house_value\n",
      "12069              500001\n",
      "15925              270000\n",
      "11162              196100\n",
      "4904               118800\n",
      "4683               225000\n",
      "==========================================================\n",
      "       median_house_value\n",
      "14740              136900\n",
      "10101              241300\n",
      "20566              200700\n",
      "2670                72500\n",
      "15709              460000\n",
      "********************************************************************\n"
     ]
    }
   ],
   "source": [
    "print(\"********************************************************************\")\n",
    "print(pd.DataFrame(X_train).head(5))\n",
    "print(\"==========================================================\")\n",
    "print(pd.DataFrame(X_test).head(5))\n",
    "print(\"==========================================================\")\n",
    "print(pd.DataFrame(y_train).head(5))\n",
    "print(\"==========================================================\")\n",
    "print(pd.DataFrame(y_test).head(5))\n",
    "print(\"********************************************************************\")"
   ]
  },
  {
   "cell_type": "markdown",
   "metadata": {},
   "source": [
    "###  Standardizing the train and test data using the Standard Scaler "
   ]
  },
  {
   "cell_type": "code",
   "execution_count": 13,
   "metadata": {},
   "outputs": [],
   "source": [
    "#==============================================================================================================\n",
    "from sklearn.preprocessing import StandardScaler\n",
    "sc_X = StandardScaler()\n",
    "X_train[:,[7,12]] = sc_X.fit_transform(X_train[:,[7,12]])\n",
    "X_test[:,[7,12]] = sc_X.transform(X_test[:,[7,12]])\n",
    "sc_y = StandardScaler()\n",
    "y_train = sc_y.fit_transform(y_train)\n",
    "y_test = sc_y.transform(y_test)\n",
    "#=============================================================================================================="
   ]
  },
  {
   "cell_type": "markdown",
   "metadata": {},
   "source": [
    "## Performing Linear Regression"
   ]
  },
  {
   "cell_type": "markdown",
   "metadata": {},
   "source": [
    "### Importing Library"
   ]
  },
  {
   "cell_type": "code",
   "execution_count": 14,
   "metadata": {},
   "outputs": [
    {
     "data": {
      "text/plain": [
       "LinearRegression(copy_X=True, fit_intercept=True, n_jobs=1, normalize=False)"
      ]
     },
     "execution_count": 14,
     "metadata": {},
     "output_type": "execute_result"
    }
   ],
   "source": [
    "#================================================================================================================\n",
    "from sklearn.linear_model import LinearRegression\n",
    "lin_reg = LinearRegression()\n",
    "lin_reg.fit(X_train,y_train)\n",
    "#================================================================================================================"
   ]
  },
  {
   "cell_type": "markdown",
   "metadata": {},
   "source": [
    "### Prediction Of the Test Data Over The Fitted Data"
   ]
  },
  {
   "cell_type": "code",
   "execution_count": 15,
   "metadata": {
    "scrolled": true
   },
   "outputs": [],
   "source": [
    "#======================================================================================================\n",
    "y_pred=lin_reg.predict(X_test)\n",
    "\n",
    "#======================================================================================================"
   ]
  },
  {
   "cell_type": "markdown",
   "metadata": {},
   "source": [
    "### Carrying out error predictions"
   ]
  },
  {
   "cell_type": "code",
   "execution_count": 16,
   "metadata": {
    "scrolled": true
   },
   "outputs": [
    {
     "name": "stdout",
     "output_type": "stream",
     "text": [
      "   Actual_Values  Linear Predictions\n",
      "0       2.530522           -0.473487\n",
      "1       0.542408            0.586343\n",
      "2      -0.096379            0.122255\n",
      "3      -0.764555           -0.656114\n",
      "4       0.153431            0.342715\n",
      "**************************************************************************\n",
      "   Actual_Values  Linear Predictions\n",
      "0      -0.608100            0.080653\n",
      "1       0.294327            0.693263\n",
      "2      -0.056617           -0.240235\n",
      "3      -1.164770           -1.043881\n",
      "4       2.184756            0.730474\n"
     ]
    }
   ],
   "source": [
    "#===============================================================================================================================\n",
    "housing_values_train= pd.DataFrame()\n",
    "housing_values_train['Actual_Values'] = housing_values_train.append(pd.DataFrame(y_train,columns=['median_house_value']),ignore_index=True)\n",
    "housing_values_train['Linear Predictions'] = lin_reg.predict(X_train)\n",
    "print((housing_values_train).head(5))\n",
    "print(\"**************************************************************************\")\n",
    "housing_values_test= pd.DataFrame()\n",
    "housing_values_test['Actual_Values'] = housing_values_test.append(pd.DataFrame(y_test,columns=['median_house_value']),ignore_index=True)\n",
    "housing_values_test['Linear Predictions'] = lin_reg.predict(X_test)\n",
    "print((housing_values_test).head(5))\n",
    "#=============================================================================================================================="
   ]
  },
  {
   "cell_type": "markdown",
   "metadata": {},
   "source": [
    "### Creating Function to find RMSE"
   ]
  },
  {
   "cell_type": "code",
   "execution_count": 17,
   "metadata": {},
   "outputs": [],
   "source": [
    "#=================================================================================================================\n",
    "def rmse(actual,predictions):\n",
    "    return(round(np.sqrt(np.mean((actual-predictions)**2)),2))\n",
    "#================================================================================================================="
   ]
  },
  {
   "cell_type": "markdown",
   "metadata": {},
   "source": [
    "### The Result Of RMSE"
   ]
  },
  {
   "cell_type": "code",
   "execution_count": 18,
   "metadata": {},
   "outputs": [
    {
     "name": "stdout",
     "output_type": "stream",
     "text": [
      "For the Linear Model\n",
      "The Root Mean Square Error of the train is : 0.59\n",
      "************************************************************************************\n",
      "************************************************************************************\n",
      "For the Linear Model\n",
      "The Root Mean Square Error of the test is : 0.59\n"
     ]
    }
   ],
   "source": [
    "#==================================================================================================================================\n",
    "print(\"For the Linear Model\")\n",
    "print(\"The Root Mean Square Error of the train is :\",rmse(housing_values_train['Actual_Values'],housing_values_train['Linear Predictions']))\n",
    "print(\"************************************************************************************\")\n",
    "print(\"************************************************************************************\")\n",
    "print(\"For the Linear Model\")\n",
    "print(\"The Root Mean Square Error of the test is :\",rmse(housing_values_test['Actual_Values'],housing_values_test['Linear Predictions']))\n",
    "#=================================================================================================================================="
   ]
  },
  {
   "cell_type": "markdown",
   "metadata": {},
   "source": [
    "## Performing Decision Tree Regression"
   ]
  },
  {
   "cell_type": "markdown",
   "metadata": {},
   "source": [
    "### Importing Library"
   ]
  },
  {
   "cell_type": "code",
   "execution_count": 19,
   "metadata": {
    "scrolled": true
   },
   "outputs": [
    {
     "data": {
      "text/plain": [
       "DecisionTreeRegressor(criterion='mse', max_depth=None, max_features=None,\n",
       "           max_leaf_nodes=None, min_impurity_decrease=0.0,\n",
       "           min_impurity_split=None, min_samples_leaf=1,\n",
       "           min_samples_split=2, min_weight_fraction_leaf=0.0,\n",
       "           presort=False, random_state=None, splitter='best')"
      ]
     },
     "execution_count": 19,
     "metadata": {},
     "output_type": "execute_result"
    }
   ],
   "source": [
    "#===========================================================================================================================\n",
    "from sklearn.tree import DecisionTreeRegressor\n",
    "dt_regressor = DecisionTreeRegressor()\n",
    "dt_regressor.fit(X_train,y_train)\n",
    "#==========================================================================================================================="
   ]
  },
  {
   "cell_type": "markdown",
   "metadata": {},
   "source": [
    "### Prediction Of the Test Data Over The Fitted Data"
   ]
  },
  {
   "cell_type": "code",
   "execution_count": 20,
   "metadata": {},
   "outputs": [],
   "source": [
    "#===========================================================================================================================\n",
    "\n",
    "dt_pred = dt_regressor.predict(X_test)\n",
    "\n",
    "#==========================================================================================================================="
   ]
  },
  {
   "cell_type": "markdown",
   "metadata": {},
   "source": [
    "### Carrying out error predictions"
   ]
  },
  {
   "cell_type": "code",
   "execution_count": 21,
   "metadata": {},
   "outputs": [
    {
     "name": "stdout",
     "output_type": "stream",
     "text": [
      "   Actual_Values  Linear Predictions  Decision Tree Predictions\n",
      "0       2.530522           -0.473487                   2.530522\n",
      "1       0.542408            0.586343                   0.542408\n",
      "2      -0.096379            0.122255                  -0.096379\n",
      "3      -0.764555           -0.656114                  -0.764555\n",
      "4       0.153431            0.342715                   0.153431\n",
      "**************************************************************************\n",
      "   Actual_Values  Linear Predictions  Decision Tree Predictions\n",
      "0      -0.608100            0.080653                  -0.583033\n",
      "1       0.294327            0.693263                   1.937540\n",
      "2      -0.056617           -0.240235                  -0.405832\n",
      "3      -1.164770           -1.043881                  -1.013501\n",
      "4       2.184756            0.730474                   2.530521\n"
     ]
    }
   ],
   "source": [
    "#=============================================================================================================================\n",
    "housing_values_train= pd.DataFrame()\n",
    "housing_values_train['Actual_Values'] = housing_values_train.append(pd.DataFrame(y_train,columns=['median_house_value']),ignore_index=True)\n",
    "housing_values_train['Linear Predictions'] = lin_reg.predict(X_train)\n",
    "housing_values_train['Decision Tree Predictions'] = dt_regressor.predict(X_train)\n",
    "print((housing_values_train).head(5))\n",
    "print(\"**************************************************************************\")\n",
    "housing_values_test= pd.DataFrame()\n",
    "housing_values_test['Actual_Values'] = housing_values_test.append(pd.DataFrame(y_test,columns=['median_house_value']),ignore_index=True)\n",
    "housing_values_test['Linear Predictions'] = lin_reg.predict(X_test)\n",
    "housing_values_test['Decision Tree Predictions'] = dt_regressor.predict(X_test)\n",
    "print((housing_values_test).head(5))\n",
    "#=============================================================================================================================="
   ]
  },
  {
   "cell_type": "markdown",
   "metadata": {},
   "source": [
    "### Creating Function to find RMSE"
   ]
  },
  {
   "cell_type": "code",
   "execution_count": 22,
   "metadata": {},
   "outputs": [],
   "source": [
    "#=================================================================================================================\n",
    "def rmse(actual,predictions):\n",
    "    return(round(np.sqrt(np.mean((actual-predictions)**2)),2))\n",
    "#================================================================================================================="
   ]
  },
  {
   "cell_type": "markdown",
   "metadata": {},
   "source": [
    "### The Result Of RMSE"
   ]
  },
  {
   "cell_type": "code",
   "execution_count": 23,
   "metadata": {},
   "outputs": [
    {
     "name": "stdout",
     "output_type": "stream",
     "text": [
      "For the Decision Tree Model\n",
      "The Root Mean Square Error of the train is : 0.0\n",
      "************************************************************************************\n",
      "************************************************************************************\n",
      "For the Decision Tree Model\n",
      "The Root Mean Square Error of the test is : 0.59\n"
     ]
    }
   ],
   "source": [
    "#==================================================================================================================================\n",
    "print(\"For the Decision Tree Model\")\n",
    "print(\"The Root Mean Square Error of the train is :\",rmse(housing_values_train['Actual_Values'],housing_values_train['Decision Tree Predictions']))\n",
    "print(\"************************************************************************************\")\n",
    "print(\"************************************************************************************\")\n",
    "print(\"For the Decision Tree Model\")\n",
    "print(\"The Root Mean Square Error of the test is :\",rmse(housing_values_test['Actual_Values'],housing_values_test['Decision Tree Predictions']))\n",
    "#==================================================================================================================================="
   ]
  },
  {
   "cell_type": "markdown",
   "metadata": {},
   "source": [
    "## Performing Random Forrest Regression"
   ]
  },
  {
   "cell_type": "markdown",
   "metadata": {},
   "source": [
    "### Importing Library"
   ]
  },
  {
   "cell_type": "code",
   "execution_count": 24,
   "metadata": {},
   "outputs": [
    {
     "name": "stderr",
     "output_type": "stream",
     "text": [
      "C:\\Users\\Girish\\Anaconda3\\lib\\site-packages\\ipykernel_launcher.py:4: DataConversionWarning: A column-vector y was passed when a 1d array was expected. Please change the shape of y to (n_samples,), for example using ravel().\n",
      "  after removing the cwd from sys.path.\n"
     ]
    },
    {
     "data": {
      "text/plain": [
       "RandomForestRegressor(bootstrap=True, criterion='mse', max_depth=None,\n",
       "           max_features='auto', max_leaf_nodes=None,\n",
       "           min_impurity_decrease=0.0, min_impurity_split=None,\n",
       "           min_samples_leaf=1, min_samples_split=2,\n",
       "           min_weight_fraction_leaf=0.0, n_estimators=10, n_jobs=1,\n",
       "           oob_score=False, random_state=0, verbose=0, warm_start=False)"
      ]
     },
     "execution_count": 24,
     "metadata": {},
     "output_type": "execute_result"
    }
   ],
   "source": [
    "#==============================================================================================================================\n",
    "from sklearn.ensemble import RandomForestRegressor\n",
    "rf_regressor = RandomForestRegressor(n_estimators = 10 , random_state = 0)\n",
    "rf_regressor.fit(X_train,y_train)\n",
    "#==============================================================================================================================="
   ]
  },
  {
   "cell_type": "markdown",
   "metadata": {},
   "source": [
    "### Prediction Of the Test Data Over The Fitted Data"
   ]
  },
  {
   "cell_type": "code",
   "execution_count": 25,
   "metadata": {},
   "outputs": [
    {
     "name": "stdout",
     "output_type": "stream",
     "text": [
      "          0\n",
      "0 -0.514227\n",
      "1  0.145738\n",
      "2 -0.537998\n",
      "3 -1.181107\n",
      "4  1.236259\n"
     ]
    }
   ],
   "source": [
    "#==============================================================================================================================\n",
    "\n",
    "rfr_pred = rf_regressor.predict(X_test)\n",
    "print(pd.DataFrame(rfr_pred).head(5))\n",
    "\n",
    "#=============================================================================================================================="
   ]
  },
  {
   "cell_type": "markdown",
   "metadata": {},
   "source": [
    "### Carrying out error predictions"
   ]
  },
  {
   "cell_type": "code",
   "execution_count": 26,
   "metadata": {},
   "outputs": [
    {
     "name": "stdout",
     "output_type": "stream",
     "text": [
      "   Actual_Values  Linear Predictions  Decision Tree Predictions  \\\n",
      "0       2.530522           -0.473487                   2.530522   \n",
      "1       0.542408            0.586343                   0.542408   \n",
      "2      -0.096379            0.122255                  -0.096379   \n",
      "3      -0.764555           -0.656114                  -0.764555   \n",
      "4       0.153431            0.342715                   0.153431   \n",
      "\n",
      "   Random Forest Predictions  \n",
      "0                   1.225283  \n",
      "1                   0.602743  \n",
      "2                  -0.110728  \n",
      "3                  -0.750207  \n",
      "4                   0.477578  \n",
      "**************************************************************************\n",
      "   Actual_Values  Linear Predictions  Decision Tree Predictions  \\\n",
      "0      -0.608100            0.080653                  -0.583033   \n",
      "1       0.294327            0.693263                   1.937540   \n",
      "2      -0.056617           -0.240235                  -0.405832   \n",
      "3      -1.164770           -1.043881                  -1.013501   \n",
      "4       2.184756            0.730474                   2.530521   \n",
      "\n",
      "   Random Forest Predictions  \n",
      "0                  -0.514227  \n",
      "1                   0.145738  \n",
      "2                  -0.537998  \n",
      "3                  -1.181107  \n",
      "4                   1.236259  \n"
     ]
    }
   ],
   "source": [
    "#==================================================================================================================================\n",
    "housing_values_train= pd.DataFrame()\n",
    "housing_values_train['Actual_Values'] = housing_values_train.append(pd.DataFrame(y_train,columns=['median_house_value']),ignore_index=True)\n",
    "housing_values_train['Linear Predictions'] = lin_reg.predict(X_train)\n",
    "housing_values_train['Decision Tree Predictions'] = dt_regressor.predict(X_train)\n",
    "housing_values_train['Random Forest Predictions'] = rf_regressor.predict(X_train)\n",
    "print((housing_values_train).head(5))\n",
    "print(\"**************************************************************************\")\n",
    "housing_values_test= pd.DataFrame()\n",
    "housing_values_test['Actual_Values'] = housing_values_test.append(pd.DataFrame(y_test,columns=['median_house_value']),ignore_index=True)\n",
    "housing_values_test['Linear Predictions'] = lin_reg.predict(X_test)\n",
    "housing_values_test['Decision Tree Predictions'] = dt_regressor.predict(X_test)\n",
    "housing_values_test['Random Forest Predictions'] = rf_regressor.predict(X_test)\n",
    "print((housing_values_test).head(5))\n",
    "#=================================================================================================================================="
   ]
  },
  {
   "cell_type": "markdown",
   "metadata": {},
   "source": [
    "### Creating Function to find RMSE"
   ]
  },
  {
   "cell_type": "code",
   "execution_count": 27,
   "metadata": {},
   "outputs": [],
   "source": [
    "#=================================================================================================================\n",
    "def rmse(actual,predictions):\n",
    "    return(round(np.sqrt(np.mean((actual-predictions)**2)),2))\n",
    "#================================================================================================================="
   ]
  },
  {
   "cell_type": "markdown",
   "metadata": {},
   "source": [
    "### The Result Of RMSE"
   ]
  },
  {
   "cell_type": "code",
   "execution_count": 28,
   "metadata": {},
   "outputs": [
    {
     "name": "stdout",
     "output_type": "stream",
     "text": [
      "For the Random Forest Model\n",
      "The Root Mean Square Error of the train is : 0.19\n",
      "************************************************************************************\n",
      "************************************************************************************\n",
      "For the Random Forest Model\n",
      "The Root Mean Square Error of the test is : 0.44\n"
     ]
    }
   ],
   "source": [
    "#==================================================================================================================================\n",
    "print(\"For the Random Forest Model\")\n",
    "print(\"The Root Mean Square Error of the train is :\",rmse(housing_values_train['Actual_Values'],housing_values_train['Random Forest Predictions']))\n",
    "print(\"************************************************************************************\")\n",
    "print(\"************************************************************************************\")\n",
    "print(\"For the Random Forest Model\")\n",
    "print(\"The Root Mean Square Error of the test is :\",rmse(housing_values_test['Actual_Values'],housing_values_test['Random Forest Predictions']))\n",
    "#==================================================================================================================================="
   ]
  },
  {
   "cell_type": "markdown",
   "metadata": {},
   "source": [
    "## Extracting median_income from independent variable"
   ]
  },
  {
   "cell_type": "code",
   "execution_count": 29,
   "metadata": {
    "scrolled": true
   },
   "outputs": [
    {
     "name": "stdout",
     "output_type": "stream",
     "text": [
      "          0\n",
      "0  0.190012\n",
      "1  0.269311\n",
      "2  0.029895\n",
      "3 -1.264470\n",
      "4 -0.367016\n",
      "**********************************************\n",
      "          0\n",
      "0  0.144489\n",
      "1  0.998204\n",
      "2  0.247755\n",
      "3 -0.747459\n",
      "4  0.591906\n"
     ]
    }
   ],
   "source": [
    "#=====================================================================================================================\n",
    "median_income_train = pd.DataFrame(X_train[:,12:13])\n",
    "print((median_income_train).head(5))\n",
    "print(\"**********************************************\")\n",
    "median_income_test = pd.DataFrame(X_test[:,12:13])\n",
    "print((median_income_test).head(5))\n",
    "#======================================================================================================================"
   ]
  },
  {
   "cell_type": "markdown",
   "metadata": {},
   "source": [
    "### Applying Linear Regression on the \"median_income\" for the trained data"
   ]
  },
  {
   "cell_type": "code",
   "execution_count": 30,
   "metadata": {},
   "outputs": [
    {
     "data": {
      "text/plain": [
       "LinearRegression(copy_X=True, fit_intercept=True, n_jobs=1, normalize=False)"
      ]
     },
     "execution_count": 30,
     "metadata": {},
     "output_type": "execute_result"
    }
   ],
   "source": [
    "#========================================================================================================================\n",
    "from sklearn.linear_model import LinearRegression\n",
    "lin_regressor = LinearRegression()\n",
    "lin_regressor.fit(X_train[:,12:13],y_train)\n",
    "#========================================================================================================================"
   ]
  },
  {
   "cell_type": "markdown",
   "metadata": {},
   "source": [
    "### Predicting the output on the test data "
   ]
  },
  {
   "cell_type": "code",
   "execution_count": 31,
   "metadata": {},
   "outputs": [],
   "source": [
    "#========================================================================================================================\n",
    "\n",
    "housingvalues_pred = lin_regressor.predict(X_test[:,12:13])\n",
    "\n",
    "#========================================================================================================================"
   ]
  },
  {
   "cell_type": "code",
   "execution_count": 32,
   "metadata": {
    "scrolled": true
   },
   "outputs": [
    {
     "name": "stdout",
     "output_type": "stream",
     "text": [
      "          0\n",
      "0  0.100096\n",
      "1  0.691514\n",
      "2  0.171635\n",
      "3 -0.517808\n",
      "4  0.410048\n"
     ]
    }
   ],
   "source": [
    "#========================================================================================================================\n",
    "\n",
    "print(pd.DataFrame(housingvalues_pred).head(5))\n",
    "\n",
    "#========================================================================================================================"
   ]
  },
  {
   "cell_type": "markdown",
   "metadata": {},
   "source": [
    "### Plot for predicting housing values using the train data"
   ]
  },
  {
   "cell_type": "code",
   "execution_count": 33,
   "metadata": {},
   "outputs": [
    {
     "data": {
      "image/png": "[encoded data removed]",
      "text/plain": [
       "<matplotlib.figure.Figure at 0xaededa0>"
      ]
     },
     "metadata": {},
     "output_type": "display_data"
    }
   ],
   "source": [
    "#========================================================================================================================\n",
    "\n",
    "plt.scatter(X_train[:,12:13],y_train,s=200,c=\"red\")\n",
    "plt.plot(X_train[:,12:13],lin_regressor.predict(X_train[:,12:13]),c=\"blue\")\n",
    "plt.title(\"Housing Values PLot\")\n",
    "plt.xlabel(\"Median income\")\n",
    "plt.ylabel(\"Median house value\")\n",
    "plt.show()\n",
    "\n",
    "#========================================================================================================================="
   ]
  },
  {
   "cell_type": "markdown",
   "metadata": {},
   "source": [
    "### Plot for predicting housing values using test data"
   ]
  },
  {
   "cell_type": "code",
   "execution_count": 34,
   "metadata": {
    "scrolled": true
   },
   "outputs": [
    {
     "data": {
      "image/png": "[encoded data removed]",
      "text/plain": [
       "<matplotlib.figure.Figure at 0xaedc208>"
      ]
     },
     "metadata": {},
     "output_type": "display_data"
    }
   ],
   "source": [
    "#======================================================================================================================\n",
    "\n",
    "plt.scatter(X_test[:,12:13],y_test,s=200,c=\"green\")\n",
    "plt.plot(X_test[:,12:13],lin_regressor.predict(X_test[:,12:13]),c=\"yellow\")\n",
    "plt.title(\"Housing Values PLot\")\n",
    "plt.xlabel(\"Median income\")\n",
    "plt.ylabel(\"Median house value\")\n",
    "plt.show()\n",
    "\n",
    "#======================================================================================================================="
   ]
  },
  {
   "cell_type": "markdown",
   "metadata": {},
   "source": [
    "## Printing the Predicted Housing Values in the .csv Format"
   ]
  },
  {
   "cell_type": "code",
   "execution_count": 35,
   "metadata": {},
   "outputs": [],
   "source": [
    "#=============================================================================================================================\n",
    "housing_values = pd.DataFrame()\n",
    "housing_values['Actual Values']= housing_values.append(pd.DataFrame(y_test,columns=['median_house_value']),ignore_index=True)\n",
    "housing_values['Linear Predictions'] = pd.DataFrame(y_pred)\n",
    "housing_values['Decision Tree Predictions'] = pd.DataFrame(dt_pred)\n",
    "housing_values['Random Forest Predictions'] = pd.DataFrame(rfr_pred)\n",
    "#============================================================================================================================="
   ]
  },
  {
   "cell_type": "markdown",
   "metadata": {},
   "source": [
    "## Converting the DataFrame to .csv Format"
   ]
  },
  {
   "cell_type": "code",
   "execution_count": 36,
   "metadata": {},
   "outputs": [],
   "source": [
    "#=========================================================================================================================\n",
    "\n",
    "housing_values.to_csv('housing_values.csv',encoding='utf-8', index=False)\n",
    "\n",
    "#========================================================================================================================="
   ]
  },
  {
   "cell_type": "markdown",
   "metadata": {},
   "source": [
    "## The Final Dataset with predicted housing values"
   ]
  },
  {
   "cell_type": "code",
   "execution_count": 37,
   "metadata": {},
   "outputs": [
    {
     "data": {
      "text/html": [
       "<div>\n",
       "<style scoped>\n",
       "    .dataframe tbody tr th:only-of-type {\n",
       "        vertical-align: middle;\n",
       "    }\n",
       "\n",
       "    .dataframe tbody tr th {\n",
       "        vertical-align: top;\n",
       "    }\n",
       "\n",
       "    .dataframe thead th {\n",
       "        text-align: right;\n",
       "    }\n",
       "</style>\n",
       "<table border=\"1\" class=\"dataframe\">\n",
       "  <thead>\n",
       "    <tr style=\"text-align: right;\">\n",
       "      <th></th>\n",
       "      <th>Actual Values</th>\n",
       "      <th>Linear Predictions</th>\n",
       "      <th>Decision Tree Predictions</th>\n",
       "      <th>Random Forest Predictions</th>\n",
       "    </tr>\n",
       "  </thead>\n",
       "  <tbody>\n",
       "    <tr>\n",
       "      <th>0</th>\n",
       "      <td>-0.608100</td>\n",
       "      <td>0.080653</td>\n",
       "      <td>-0.583033</td>\n",
       "      <td>-0.514227</td>\n",
       "    </tr>\n",
       "    <tr>\n",
       "      <th>1</th>\n",
       "      <td>0.294327</td>\n",
       "      <td>0.693263</td>\n",
       "      <td>1.937540</td>\n",
       "      <td>0.145738</td>\n",
       "    </tr>\n",
       "    <tr>\n",
       "      <th>2</th>\n",
       "      <td>-0.056617</td>\n",
       "      <td>-0.240235</td>\n",
       "      <td>-0.405832</td>\n",
       "      <td>-0.537998</td>\n",
       "    </tr>\n",
       "    <tr>\n",
       "      <th>3</th>\n",
       "      <td>-1.164770</td>\n",
       "      <td>-1.043881</td>\n",
       "      <td>-1.013501</td>\n",
       "      <td>-1.181107</td>\n",
       "    </tr>\n",
       "    <tr>\n",
       "      <th>4</th>\n",
       "      <td>2.184756</td>\n",
       "      <td>0.730474</td>\n",
       "      <td>2.530521</td>\n",
       "      <td>1.236259</td>\n",
       "    </tr>\n",
       "    <tr>\n",
       "      <th>5</th>\n",
       "      <td>-0.754183</td>\n",
       "      <td>-0.038912</td>\n",
       "      <td>-0.576118</td>\n",
       "      <td>-0.835954</td>\n",
       "    </tr>\n",
       "    <tr>\n",
       "      <th>6</th>\n",
       "      <td>0.343597</td>\n",
       "      <td>0.645055</td>\n",
       "      <td>0.252836</td>\n",
       "      <td>0.631441</td>\n",
       "    </tr>\n",
       "    <tr>\n",
       "      <th>7</th>\n",
       "      <td>1.120688</td>\n",
       "      <td>0.933200</td>\n",
       "      <td>1.559800</td>\n",
       "      <td>1.772010</td>\n",
       "    </tr>\n",
       "    <tr>\n",
       "      <th>8</th>\n",
       "      <td>1.144891</td>\n",
       "      <td>0.864888</td>\n",
       "      <td>0.396325</td>\n",
       "      <td>1.054216</td>\n",
       "    </tr>\n",
       "    <tr>\n",
       "      <th>9</th>\n",
       "      <td>0.504375</td>\n",
       "      <td>0.299548</td>\n",
       "      <td>0.357428</td>\n",
       "      <td>0.361923</td>\n",
       "    </tr>\n",
       "    <tr>\n",
       "      <th>10</th>\n",
       "      <td>0.264938</td>\n",
       "      <td>0.267005</td>\n",
       "      <td>-0.126633</td>\n",
       "      <td>0.417157</td>\n",
       "    </tr>\n",
       "    <tr>\n",
       "      <th>11</th>\n",
       "      <td>-0.994484</td>\n",
       "      <td>-0.939875</td>\n",
       "      <td>-1.072280</td>\n",
       "      <td>-1.094235</td>\n",
       "    </tr>\n",
       "    <tr>\n",
       "      <th>12</th>\n",
       "      <td>-1.104262</td>\n",
       "      <td>-1.118601</td>\n",
       "      <td>-0.927061</td>\n",
       "      <td>-1.098989</td>\n",
       "    </tr>\n",
       "    <tr>\n",
       "      <th>13</th>\n",
       "      <td>-0.602914</td>\n",
       "      <td>-0.349959</td>\n",
       "      <td>-1.078330</td>\n",
       "      <td>-0.903118</td>\n",
       "    </tr>\n",
       "    <tr>\n",
       "      <th>14</th>\n",
       "      <td>0.111076</td>\n",
       "      <td>-0.110353</td>\n",
       "      <td>-0.169852</td>\n",
       "      <td>0.084884</td>\n",
       "    </tr>\n",
       "    <tr>\n",
       "      <th>15</th>\n",
       "      <td>0.595136</td>\n",
       "      <td>0.611039</td>\n",
       "      <td>0.557967</td>\n",
       "      <td>0.981521</td>\n",
       "    </tr>\n",
       "    <tr>\n",
       "      <th>16</th>\n",
       "      <td>1.625494</td>\n",
       "      <td>1.261914</td>\n",
       "      <td>1.493241</td>\n",
       "      <td>1.072541</td>\n",
       "    </tr>\n",
       "    <tr>\n",
       "      <th>17</th>\n",
       "      <td>0.801726</td>\n",
       "      <td>-0.135149</td>\n",
       "      <td>2.530522</td>\n",
       "      <td>-0.459857</td>\n",
       "    </tr>\n",
       "    <tr>\n",
       "      <th>18</th>\n",
       "      <td>-0.212208</td>\n",
       "      <td>0.015454</td>\n",
       "      <td>-0.187140</td>\n",
       "      <td>-0.385173</td>\n",
       "    </tr>\n",
       "    <tr>\n",
       "      <th>19</th>\n",
       "      <td>1.548562</td>\n",
       "      <td>0.628183</td>\n",
       "      <td>1.902100</td>\n",
       "      <td>1.707786</td>\n",
       "    </tr>\n",
       "    <tr>\n",
       "      <th>20</th>\n",
       "      <td>-0.655642</td>\n",
       "      <td>-0.333813</td>\n",
       "      <td>-0.423120</td>\n",
       "      <td>-0.665928</td>\n",
       "    </tr>\n",
       "    <tr>\n",
       "      <th>21</th>\n",
       "      <td>-1.150075</td>\n",
       "      <td>-1.130534</td>\n",
       "      <td>-1.248616</td>\n",
       "      <td>-1.296590</td>\n",
       "    </tr>\n",
       "    <tr>\n",
       "      <th>22</th>\n",
       "      <td>0.205294</td>\n",
       "      <td>0.520234</td>\n",
       "      <td>0.098110</td>\n",
       "      <td>0.401598</td>\n",
       "    </tr>\n",
       "    <tr>\n",
       "      <th>23</th>\n",
       "      <td>1.615121</td>\n",
       "      <td>0.386409</td>\n",
       "      <td>1.542512</td>\n",
       "      <td>0.507574</td>\n",
       "    </tr>\n",
       "    <tr>\n",
       "      <th>24</th>\n",
       "      <td>-0.269258</td>\n",
       "      <td>-0.240942</td>\n",
       "      <td>-0.200106</td>\n",
       "      <td>-0.075806</td>\n",
       "    </tr>\n",
       "    <tr>\n",
       "      <th>25</th>\n",
       "      <td>-0.292596</td>\n",
       "      <td>-0.289545</td>\n",
       "      <td>-0.150836</td>\n",
       "      <td>-0.237362</td>\n",
       "    </tr>\n",
       "    <tr>\n",
       "      <th>26</th>\n",
       "      <td>-0.044515</td>\n",
       "      <td>0.075102</td>\n",
       "      <td>0.348784</td>\n",
       "      <td>0.080217</td>\n",
       "    </tr>\n",
       "    <tr>\n",
       "      <th>27</th>\n",
       "      <td>-0.315071</td>\n",
       "      <td>0.102604</td>\n",
       "      <td>0.369529</td>\n",
       "      <td>0.176424</td>\n",
       "    </tr>\n",
       "    <tr>\n",
       "      <th>28</th>\n",
       "      <td>-0.991027</td>\n",
       "      <td>-0.285721</td>\n",
       "      <td>-0.861368</td>\n",
       "      <td>-0.742773</td>\n",
       "    </tr>\n",
       "    <tr>\n",
       "      <th>29</th>\n",
       "      <td>-1.298751</td>\n",
       "      <td>-0.993450</td>\n",
       "      <td>-1.283192</td>\n",
       "      <td>-1.102533</td>\n",
       "    </tr>\n",
       "    <tr>\n",
       "      <th>...</th>\n",
       "      <td>...</td>\n",
       "      <td>...</td>\n",
       "      <td>...</td>\n",
       "      <td>...</td>\n",
       "    </tr>\n",
       "    <tr>\n",
       "      <th>4098</th>\n",
       "      <td>1.062773</td>\n",
       "      <td>0.381015</td>\n",
       "      <td>0.984113</td>\n",
       "      <td>1.005982</td>\n",
       "    </tr>\n",
       "    <tr>\n",
       "      <th>4099</th>\n",
       "      <td>-0.700590</td>\n",
       "      <td>-0.266598</td>\n",
       "      <td>-0.447323</td>\n",
       "      <td>-0.463919</td>\n",
       "    </tr>\n",
       "    <tr>\n",
       "      <th>4100</th>\n",
       "      <td>-1.329869</td>\n",
       "      <td>-1.063685</td>\n",
       "      <td>-1.325547</td>\n",
       "      <td>-1.258902</td>\n",
       "    </tr>\n",
       "    <tr>\n",
       "      <th>4101</th>\n",
       "      <td>-0.736895</td>\n",
       "      <td>-0.359642</td>\n",
       "      <td>-0.453374</td>\n",
       "      <td>-0.580612</td>\n",
       "    </tr>\n",
       "    <tr>\n",
       "      <th>4102</th>\n",
       "      <td>0.130957</td>\n",
       "      <td>0.163578</td>\n",
       "      <td>-0.605507</td>\n",
       "      <td>-0.070966</td>\n",
       "    </tr>\n",
       "    <tr>\n",
       "      <th>4103</th>\n",
       "      <td>-0.125768</td>\n",
       "      <td>0.258853</td>\n",
       "      <td>1.882218</td>\n",
       "      <td>0.458130</td>\n",
       "    </tr>\n",
       "    <tr>\n",
       "      <th>4104</th>\n",
       "      <td>0.946080</td>\n",
       "      <td>0.990636</td>\n",
       "      <td>2.530522</td>\n",
       "      <td>1.644598</td>\n",
       "    </tr>\n",
       "    <tr>\n",
       "      <th>4105</th>\n",
       "      <td>0.700592</td>\n",
       "      <td>0.965057</td>\n",
       "      <td>0.534628</td>\n",
       "      <td>0.873817</td>\n",
       "    </tr>\n",
       "    <tr>\n",
       "      <th>4106</th>\n",
       "      <td>1.712797</td>\n",
       "      <td>0.993446</td>\n",
       "      <td>2.530522</td>\n",
       "      <td>2.144912</td>\n",
       "    </tr>\n",
       "    <tr>\n",
       "      <th>4107</th>\n",
       "      <td>-0.419662</td>\n",
       "      <td>-0.016776</td>\n",
       "      <td>-0.378171</td>\n",
       "      <td>-0.188005</td>\n",
       "    </tr>\n",
       "    <tr>\n",
       "      <th>4108</th>\n",
       "      <td>-0.270987</td>\n",
       "      <td>-0.358163</td>\n",
       "      <td>-0.406696</td>\n",
       "      <td>-0.056444</td>\n",
       "    </tr>\n",
       "    <tr>\n",
       "      <th>4109</th>\n",
       "      <td>0.613288</td>\n",
       "      <td>0.532652</td>\n",
       "      <td>1.717119</td>\n",
       "      <td>0.820570</td>\n",
       "    </tr>\n",
       "    <tr>\n",
       "      <th>4110</th>\n",
       "      <td>0.420528</td>\n",
       "      <td>0.217353</td>\n",
       "      <td>0.450782</td>\n",
       "      <td>-0.165617</td>\n",
       "    </tr>\n",
       "    <tr>\n",
       "      <th>4111</th>\n",
       "      <td>-0.187140</td>\n",
       "      <td>0.393789</td>\n",
       "      <td>0.187142</td>\n",
       "      <td>-0.117730</td>\n",
       "    </tr>\n",
       "    <tr>\n",
       "      <th>4112</th>\n",
       "      <td>0.720473</td>\n",
       "      <td>-0.066011</td>\n",
       "      <td>-0.406696</td>\n",
       "      <td>0.168903</td>\n",
       "    </tr>\n",
       "    <tr>\n",
       "      <th>4113</th>\n",
       "      <td>-0.501780</td>\n",
       "      <td>-0.470763</td>\n",
       "      <td>-0.615015</td>\n",
       "      <td>-0.429776</td>\n",
       "    </tr>\n",
       "    <tr>\n",
       "      <th>4114</th>\n",
       "      <td>-0.516474</td>\n",
       "      <td>-0.139031</td>\n",
       "      <td>-0.702319</td>\n",
       "      <td>-0.538430</td>\n",
       "    </tr>\n",
       "    <tr>\n",
       "      <th>4115</th>\n",
       "      <td>-0.439543</td>\n",
       "      <td>0.001388</td>\n",
       "      <td>-0.386815</td>\n",
       "      <td>-0.438593</td>\n",
       "    </tr>\n",
       "    <tr>\n",
       "      <th>4116</th>\n",
       "      <td>1.838999</td>\n",
       "      <td>1.101421</td>\n",
       "      <td>2.358499</td>\n",
       "      <td>2.084575</td>\n",
       "    </tr>\n",
       "    <tr>\n",
       "      <th>4117</th>\n",
       "      <td>2.530522</td>\n",
       "      <td>0.336767</td>\n",
       "      <td>2.530518</td>\n",
       "      <td>0.873731</td>\n",
       "    </tr>\n",
       "    <tr>\n",
       "      <th>4118</th>\n",
       "      <td>-1.322954</td>\n",
       "      <td>-1.113236</td>\n",
       "      <td>-1.105127</td>\n",
       "      <td>-1.261150</td>\n",
       "    </tr>\n",
       "    <tr>\n",
       "      <th>4119</th>\n",
       "      <td>0.203566</td>\n",
       "      <td>-0.197428</td>\n",
       "      <td>-0.008211</td>\n",
       "      <td>0.069671</td>\n",
       "    </tr>\n",
       "    <tr>\n",
       "      <th>4120</th>\n",
       "      <td>-1.164770</td>\n",
       "      <td>-0.855842</td>\n",
       "      <td>-1.075737</td>\n",
       "      <td>-1.181539</td>\n",
       "    </tr>\n",
       "    <tr>\n",
       "      <th>4121</th>\n",
       "      <td>0.289141</td>\n",
       "      <td>0.101711</td>\n",
       "      <td>-0.085142</td>\n",
       "      <td>0.195527</td>\n",
       "    </tr>\n",
       "    <tr>\n",
       "      <th>4122</th>\n",
       "      <td>0.787031</td>\n",
       "      <td>0.894215</td>\n",
       "      <td>0.401512</td>\n",
       "      <td>0.739058</td>\n",
       "    </tr>\n",
       "    <tr>\n",
       "      <th>4123</th>\n",
       "      <td>-0.326308</td>\n",
       "      <td>-0.309260</td>\n",
       "      <td>-0.264071</td>\n",
       "      <td>-0.039675</td>\n",
       "    </tr>\n",
       "    <tr>\n",
       "      <th>4124</th>\n",
       "      <td>-0.022906</td>\n",
       "      <td>0.329268</td>\n",
       "      <td>-0.088599</td>\n",
       "      <td>-0.170371</td>\n",
       "    </tr>\n",
       "    <tr>\n",
       "      <th>4125</th>\n",
       "      <td>-0.679845</td>\n",
       "      <td>-1.020946</td>\n",
       "      <td>-0.379900</td>\n",
       "      <td>-0.536010</td>\n",
       "    </tr>\n",
       "    <tr>\n",
       "      <th>4126</th>\n",
       "      <td>0.451647</td>\n",
       "      <td>0.415381</td>\n",
       "      <td>0.028094</td>\n",
       "      <td>-0.021177</td>\n",
       "    </tr>\n",
       "    <tr>\n",
       "      <th>4127</th>\n",
       "      <td>-0.342731</td>\n",
       "      <td>0.052179</td>\n",
       "      <td>-0.023770</td>\n",
       "      <td>-0.199155</td>\n",
       "    </tr>\n",
       "  </tbody>\n",
       "</table>\n",
       "<p>4128 rows × 4 columns</p>\n",
       "</div>"
      ],
      "text/plain": [
       "      Actual Values  Linear Predictions  Decision Tree Predictions  \\\n",
       "0         -0.608100            0.080653                  -0.583033   \n",
       "1          0.294327            0.693263                   1.937540   \n",
       "2         -0.056617           -0.240235                  -0.405832   \n",
       "3         -1.164770           -1.043881                  -1.013501   \n",
       "4          2.184756            0.730474                   2.530521   \n",
       "5         -0.754183           -0.038912                  -0.576118   \n",
       "6          0.343597            0.645055                   0.252836   \n",
       "7          1.120688            0.933200                   1.559800   \n",
       "8          1.144891            0.864888                   0.396325   \n",
       "9          0.504375            0.299548                   0.357428   \n",
       "10         0.264938            0.267005                  -0.126633   \n",
       "11        -0.994484           -0.939875                  -1.072280   \n",
       "12        -1.104262           -1.118601                  -0.927061   \n",
       "13        -0.602914           -0.349959                  -1.078330   \n",
       "14         0.111076           -0.110353                  -0.169852   \n",
       "15         0.595136            0.611039                   0.557967   \n",
       "16         1.625494            1.261914                   1.493241   \n",
       "17         0.801726           -0.135149                   2.530522   \n",
       "18        -0.212208            0.015454                  -0.187140   \n",
       "19         1.548562            0.628183                   1.902100   \n",
       "20        -0.655642           -0.333813                  -0.423120   \n",
       "21        -1.150075           -1.130534                  -1.248616   \n",
       "22         0.205294            0.520234                   0.098110   \n",
       "23         1.615121            0.386409                   1.542512   \n",
       "24        -0.269258           -0.240942                  -0.200106   \n",
       "25        -0.292596           -0.289545                  -0.150836   \n",
       "26        -0.044515            0.075102                   0.348784   \n",
       "27        -0.315071            0.102604                   0.369529   \n",
       "28        -0.991027           -0.285721                  -0.861368   \n",
       "29        -1.298751           -0.993450                  -1.283192   \n",
       "...             ...                 ...                        ...   \n",
       "4098       1.062773            0.381015                   0.984113   \n",
       "4099      -0.700590           -0.266598                  -0.447323   \n",
       "4100      -1.329869           -1.063685                  -1.325547   \n",
       "4101      -0.736895           -0.359642                  -0.453374   \n",
       "4102       0.130957            0.163578                  -0.605507   \n",
       "4103      -0.125768            0.258853                   1.882218   \n",
       "4104       0.946080            0.990636                   2.530522   \n",
       "4105       0.700592            0.965057                   0.534628   \n",
       "4106       1.712797            0.993446                   2.530522   \n",
       "4107      -0.419662           -0.016776                  -0.378171   \n",
       "4108      -0.270987           -0.358163                  -0.406696   \n",
       "4109       0.613288            0.532652                   1.717119   \n",
       "4110       0.420528            0.217353                   0.450782   \n",
       "4111      -0.187140            0.393789                   0.187142   \n",
       "4112       0.720473           -0.066011                  -0.406696   \n",
       "4113      -0.501780           -0.470763                  -0.615015   \n",
       "4114      -0.516474           -0.139031                  -0.702319   \n",
       "4115      -0.439543            0.001388                  -0.386815   \n",
       "4116       1.838999            1.101421                   2.358499   \n",
       "4117       2.530522            0.336767                   2.530518   \n",
       "4118      -1.322954           -1.113236                  -1.105127   \n",
       "4119       0.203566           -0.197428                  -0.008211   \n",
       "4120      -1.164770           -0.855842                  -1.075737   \n",
       "4121       0.289141            0.101711                  -0.085142   \n",
       "4122       0.787031            0.894215                   0.401512   \n",
       "4123      -0.326308           -0.309260                  -0.264071   \n",
       "4124      -0.022906            0.329268                  -0.088599   \n",
       "4125      -0.679845           -1.020946                  -0.379900   \n",
       "4126       0.451647            0.415381                   0.028094   \n",
       "4127      -0.342731            0.052179                  -0.023770   \n",
       "\n",
       "      Random Forest Predictions  \n",
       "0                     -0.514227  \n",
       "1                      0.145738  \n",
       "2                     -0.537998  \n",
       "3                     -1.181107  \n",
       "4                      1.236259  \n",
       "5                     -0.835954  \n",
       "6                      0.631441  \n",
       "7                      1.772010  \n",
       "8                      1.054216  \n",
       "9                      0.361923  \n",
       "10                     0.417157  \n",
       "11                    -1.094235  \n",
       "12                    -1.098989  \n",
       "13                    -0.903118  \n",
       "14                     0.084884  \n",
       "15                     0.981521  \n",
       "16                     1.072541  \n",
       "17                    -0.459857  \n",
       "18                    -0.385173  \n",
       "19                     1.707786  \n",
       "20                    -0.665928  \n",
       "21                    -1.296590  \n",
       "22                     0.401598  \n",
       "23                     0.507574  \n",
       "24                    -0.075806  \n",
       "25                    -0.237362  \n",
       "26                     0.080217  \n",
       "27                     0.176424  \n",
       "28                    -0.742773  \n",
       "29                    -1.102533  \n",
       "...                         ...  \n",
       "4098                   1.005982  \n",
       "4099                  -0.463919  \n",
       "4100                  -1.258902  \n",
       "4101                  -0.580612  \n",
       "4102                  -0.070966  \n",
       "4103                   0.458130  \n",
       "4104                   1.644598  \n",
       "4105                   0.873817  \n",
       "4106                   2.144912  \n",
       "4107                  -0.188005  \n",
       "4108                  -0.056444  \n",
       "4109                   0.820570  \n",
       "4110                  -0.165617  \n",
       "4111                  -0.117730  \n",
       "4112                   0.168903  \n",
       "4113                  -0.429776  \n",
       "4114                  -0.538430  \n",
       "4115                  -0.438593  \n",
       "4116                   2.084575  \n",
       "4117                   0.873731  \n",
       "4118                  -1.261150  \n",
       "4119                   0.069671  \n",
       "4120                  -1.181539  \n",
       "4121                   0.195527  \n",
       "4122                   0.739058  \n",
       "4123                  -0.039675  \n",
       "4124                  -0.170371  \n",
       "4125                  -0.536010  \n",
       "4126                  -0.021177  \n",
       "4127                  -0.199155  \n",
       "\n",
       "[4128 rows x 4 columns]"
      ]
     },
     "execution_count": 37,
     "metadata": {},
     "output_type": "execute_result"
    }
   ],
   "source": [
    "#==========================================================================================================================\n",
    "\n",
    "housing_values\n",
    "\n",
    "#==========================================================================================================================="
   ]
  }
 ],
 "metadata": {
  "kernelspec": {
   "display_name": "Python 3",
   "language": "python",
   "name": "python3"
  },
  "language_info": {
   "codemirror_mode": {
    "name": "ipython",
    "version": 3
   },
   "file_extension": ".py",
   "mimetype": "text/x-python",
   "name": "python",
   "nbconvert_exporter": "python",
   "pygments_lexer": "ipython3",
   "version": "3.6.4"
  }
 },
 "nbformat": 4,
 "nbformat_minor": 2
}
